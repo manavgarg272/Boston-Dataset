{
 "cells": [
  {
   "cell_type": "code",
   "execution_count": 96,
   "metadata": {},
   "outputs": [],
   "source": [
    "from sklearn import datasets"
   ]
  },
  {
   "cell_type": "code",
   "execution_count": 97,
   "metadata": {},
   "outputs": [
    {
     "data": {
      "text/plain": [
       "(506, 13)"
      ]
     },
     "execution_count": 97,
     "metadata": {},
     "output_type": "execute_result"
    }
   ],
   "source": [
    "boston=datasets.load_boston()\n",
    "X=boston.data\n",
    "Y=boston.target\n",
    "X.shape"
   ]
  },
  {
   "cell_type": "code",
   "execution_count": 98,
   "metadata": {},
   "outputs": [
    {
     "data": {
      "text/plain": [
       "(506, 182)"
      ]
     },
     "execution_count": 98,
     "metadata": {},
     "output_type": "execute_result"
    }
   ],
   "source": [
    "import pandas as pd\n",
    "df=pd.DataFrame(X)\n",
    "df.columns=boston.feature_names\n",
    "for i in boston.feature_names:\n",
    "    for j in boston.feature_names:\n",
    "        var=i+j\n",
    "        df[var]=df[i]*df[j]\n",
    "        \n",
    "\n",
    "X2=df.values\n",
    "X2.shape\n",
    "df.shape"
   ]
  },
  {
   "cell_type": "code",
   "execution_count": 99,
   "metadata": {},
   "outputs": [],
   "source": [
    "from sklearn import model_selection\n",
    "\n",
    "X_train,X_test,Y_train,Y_test=model_selection.train_test_split(X,Y,random_state=0)\n",
    "X2_train,X2_test,Y2_train,Y2_test=model_selection.train_test_split(X2,Y,random_state=0)"
   ]
  },
  {
   "cell_type": "code",
   "execution_count": 100,
   "metadata": {},
   "outputs": [],
   "source": [
    "from sklearn.linear_model import LinearRegression\n",
    "alg1=LinearRegression()\n",
    "alg2=LinearRegression()"
   ]
  },
  {
   "cell_type": "code",
   "execution_count": 101,
   "metadata": {},
   "outputs": [
    {
     "data": {
      "text/plain": [
       "LinearRegression(copy_X=True, fit_intercept=True, n_jobs=1, normalize=False)"
      ]
     },
     "execution_count": 101,
     "metadata": {},
     "output_type": "execute_result"
    }
   ],
   "source": [
    "alg1.fit(X_train,Y_train)\n",
    "alg2.fit(X2_train,Y2_train)"
   ]
  },
  {
   "cell_type": "code",
   "execution_count": 102,
   "metadata": {},
   "outputs": [
    {
     "name": "stdout",
     "output_type": "stream",
     "text": [
      "Train Score:  0.7697448370563938\n",
      "Test Score:  0.6353620786674623\n",
      "Train2 Score:  0.9523526436864237\n",
      "Test2 Score:  0.6057754893067449\n"
     ]
    }
   ],
   "source": [
    "Y_pred = alg1.predict(X_train)\n",
    "train_score = alg1.score(X_train, Y_train)\n",
    "test_score = alg1.score(X_test, Y_test)\n",
    "print(\"Train Score: \", train_score)\n",
    "print(\"Test Score: \", test_score)\n",
    "\n",
    "Y_pred2=alg2.predict(X2_train)\n",
    "train2_score = alg2.score(X2_train, Y2_train)\n",
    "test2_score = alg2.score(X2_test, Y2_test)\n",
    "print(\"Train2 Score: \", train2_score)\n",
    "print(\"Test2 Score: \", test2_score)\n",
    "                  "
   ]
  },
  {
   "cell_type": "code",
   "execution_count": 103,
   "metadata": {},
   "outputs": [
    {
     "data": {
      "image/png": "[encoded data removed]",
      "text/plain": [
       "<Figure size 432x288 with 1 Axes>"
      ]
     },
     "metadata": {
      "needs_background": "light"
     },
     "output_type": "display_data"
    }
   ],
   "source": [
    "import matplotlib.pyplot as plt\n",
    "plt.scatter(Y_train,Y_pred)\n",
    "plt.scatter(Y2_train,Y_pred2)\n",
    "plt.show()"
   ]
  },
  {
   "cell_type": "code",
   "execution_count": 1,
   "metadata": {},
   "outputs": [],
   "source": [
    "import numpy as np"
   ]
  },
  {
   "cell_type": "code",
   "execution_count": 6,
   "metadata": {},
   "outputs": [],
   "source": [
    "data = np.loadtxt(\"train.csv\",delimiter=\",\")"
   ]
  },
  {
   "cell_type": "code",
   "execution_count": 10,
   "metadata": {},
   "outputs": [
    {
     "data": {
      "text/plain": [
       "379"
      ]
     },
     "execution_count": 10,
     "metadata": {},
     "output_type": "execute_result"
    }
   ],
   "source": [
    "data.shape[0]"
   ]
  }
 ],
 "metadata": {
  "kernelspec": {
   "display_name": "Python 3",
   "language": "python",
   "name": "python3"
  },
  "language_info": {
   "codemirror_mode": {
    "name": "ipython",
    "version": 3
   },
   "file_extension": ".py",
   "mimetype": "text/x-python",
   "name": "python",
   "nbconvert_exporter": "python",
   "pygments_lexer": "ipython3",
   "version": "3.7.1"
  }
 },
 "nbformat": 4,
 "nbformat_minor": 2
}
